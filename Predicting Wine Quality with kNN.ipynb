{
 "cells": [
  {
   "cell_type": "markdown",
   "metadata": {},
   "source": [
    "### <Center> Predicting Wine Quality with k-Nearest Neighbours<Center>\n",
    "In this project, k-NN is used to predict the wine quality of individual wines based on features which include fixed acidity, chlorides, density, pH, etc. A dataset \"sparklingwine.csv\" comprising of these features is used."
   ]
  },
  {
   "cell_type": "code",
   "execution_count": 19,
   "metadata": {},
   "outputs": [],
   "source": [
    "import pandas as pd\n",
    "import numpy as np\n",
    "import matplotlib.pyplot as plt\n",
    "from sklearn.model_selection import train_test_split, cross_val_score\n",
    "from sklearn import preprocessing\n",
    "from sklearn.neighbors import KNeighborsClassifier\n",
    "from sklearn import metrics\n",
    "from sklearn.metrics import classification_report, confusion_matrix, precision_recall_fscore_support as score"
   ]
  },
  {
   "cell_type": "markdown",
   "metadata": {},
   "source": [
    "### (1) Load data file"
   ]
  },
  {
   "cell_type": "code",
   "execution_count": 20,
   "metadata": {},
   "outputs": [
    {
     "data": {
      "text/html": [
       "<div>\n",
       "<style scoped>\n",
       "    .dataframe tbody tr th:only-of-type {\n",
       "        vertical-align: middle;\n",
       "    }\n",
       "\n",
       "    .dataframe tbody tr th {\n",
       "        vertical-align: top;\n",
       "    }\n",
       "\n",
       "    .dataframe thead th {\n",
       "        text-align: right;\n",
       "    }\n",
       "</style>\n",
       "<table border=\"1\" class=\"dataframe\">\n",
       "  <thead>\n",
       "    <tr style=\"text-align: right;\">\n",
       "      <th></th>\n",
       "      <th>fixed acidity</th>\n",
       "      <th>volatile acidity</th>\n",
       "      <th>citric acid</th>\n",
       "      <th>residual sugar</th>\n",
       "      <th>chlorides</th>\n",
       "      <th>free sulfur dioxide</th>\n",
       "      <th>total sulfur dioxide</th>\n",
       "      <th>density</th>\n",
       "      <th>pH</th>\n",
       "      <th>sulphates</th>\n",
       "      <th>alcohol</th>\n",
       "      <th>quality</th>\n",
       "    </tr>\n",
       "  </thead>\n",
       "  <tbody>\n",
       "    <tr>\n",
       "      <th>0</th>\n",
       "      <td>7.4</td>\n",
       "      <td>0.70</td>\n",
       "      <td>0.00</td>\n",
       "      <td>1.9</td>\n",
       "      <td>0.076</td>\n",
       "      <td>11.0</td>\n",
       "      <td>34.0</td>\n",
       "      <td>0.9978</td>\n",
       "      <td>3.51</td>\n",
       "      <td>0.56</td>\n",
       "      <td>9.4</td>\n",
       "      <td>5</td>\n",
       "    </tr>\n",
       "    <tr>\n",
       "      <th>1</th>\n",
       "      <td>7.8</td>\n",
       "      <td>0.88</td>\n",
       "      <td>0.00</td>\n",
       "      <td>2.6</td>\n",
       "      <td>0.098</td>\n",
       "      <td>25.0</td>\n",
       "      <td>67.0</td>\n",
       "      <td>0.9968</td>\n",
       "      <td>3.20</td>\n",
       "      <td>0.68</td>\n",
       "      <td>9.8</td>\n",
       "      <td>5</td>\n",
       "    </tr>\n",
       "    <tr>\n",
       "      <th>2</th>\n",
       "      <td>7.8</td>\n",
       "      <td>0.76</td>\n",
       "      <td>0.04</td>\n",
       "      <td>2.3</td>\n",
       "      <td>0.092</td>\n",
       "      <td>15.0</td>\n",
       "      <td>54.0</td>\n",
       "      <td>0.9970</td>\n",
       "      <td>3.26</td>\n",
       "      <td>0.65</td>\n",
       "      <td>9.8</td>\n",
       "      <td>5</td>\n",
       "    </tr>\n",
       "    <tr>\n",
       "      <th>3</th>\n",
       "      <td>11.2</td>\n",
       "      <td>0.28</td>\n",
       "      <td>0.56</td>\n",
       "      <td>1.9</td>\n",
       "      <td>0.075</td>\n",
       "      <td>17.0</td>\n",
       "      <td>60.0</td>\n",
       "      <td>0.9980</td>\n",
       "      <td>3.16</td>\n",
       "      <td>0.58</td>\n",
       "      <td>9.8</td>\n",
       "      <td>5</td>\n",
       "    </tr>\n",
       "    <tr>\n",
       "      <th>4</th>\n",
       "      <td>7.4</td>\n",
       "      <td>0.70</td>\n",
       "      <td>0.00</td>\n",
       "      <td>1.9</td>\n",
       "      <td>0.076</td>\n",
       "      <td>11.0</td>\n",
       "      <td>34.0</td>\n",
       "      <td>0.9978</td>\n",
       "      <td>3.51</td>\n",
       "      <td>0.56</td>\n",
       "      <td>9.4</td>\n",
       "      <td>5</td>\n",
       "    </tr>\n",
       "  </tbody>\n",
       "</table>\n",
       "</div>"
      ],
      "text/plain": [
       "   fixed acidity  volatile acidity  citric acid  residual sugar  chlorides  \\\n",
       "0            7.4              0.70         0.00             1.9      0.076   \n",
       "1            7.8              0.88         0.00             2.6      0.098   \n",
       "2            7.8              0.76         0.04             2.3      0.092   \n",
       "3           11.2              0.28         0.56             1.9      0.075   \n",
       "4            7.4              0.70         0.00             1.9      0.076   \n",
       "\n",
       "   free sulfur dioxide  total sulfur dioxide  density    pH  sulphates  \\\n",
       "0                 11.0                  34.0   0.9978  3.51       0.56   \n",
       "1                 25.0                  67.0   0.9968  3.20       0.68   \n",
       "2                 15.0                  54.0   0.9970  3.26       0.65   \n",
       "3                 17.0                  60.0   0.9980  3.16       0.58   \n",
       "4                 11.0                  34.0   0.9978  3.51       0.56   \n",
       "\n",
       "   alcohol  quality  \n",
       "0      9.4        5  \n",
       "1      9.8        5  \n",
       "2      9.8        5  \n",
       "3      9.8        5  \n",
       "4      9.4        5  "
      ]
     },
     "execution_count": 20,
     "metadata": {},
     "output_type": "execute_result"
    }
   ],
   "source": [
    "df_wine = pd.read_csv(\"./sparklingwine.csv\", sep=';')\n",
    "df_wine.head()"
   ]
  },
  {
   "cell_type": "markdown",
   "metadata": {},
   "source": [
    "### (2) Construct new binary column \"good wine\"\n",
    "#### \"good wine\" has value of 1 when quality >= 6 and value of 0 when quality < 0"
   ]
  },
  {
   "cell_type": "code",
   "execution_count": 21,
   "metadata": {},
   "outputs": [],
   "source": [
    "df_wine['good wine'] = df_wine['quality'].apply(lambda x:1 if x>=6 else 0)"
   ]
  },
  {
   "cell_type": "markdown",
   "metadata": {},
   "source": [
    "### (3) Split data into training, validation & test sets"
   ]
  },
  {
   "cell_type": "code",
   "execution_count": 22,
   "metadata": {},
   "outputs": [],
   "source": [
    "#Features: everything except quality & good wine\n",
    "X = df_wine.drop(['quality','good wine'], axis=1)\n",
    "\n",
    "#Label: good wine\n",
    "y = df_wine['good wine']\n",
    "\n",
    "#Split data into combined (training + validation) and testing set, then split combined set into training set and validation set\n",
    "#Combined set to be used for retraining of model\n",
    "X_comb, X_test, y_comb, y_test = train_test_split(X, y, test_size = 0.25, shuffle = False)\n",
    "X_train, X_val, y_train, y_val = train_test_split(X_comb, y_comb, test_size = 1/3, shuffle = False)"
   ]
  },
  {
   "cell_type": "markdown",
   "metadata": {},
   "source": [
    "### (4) Normalise data according to Z-score transform"
   ]
  },
  {
   "cell_type": "code",
   "execution_count": 23,
   "metadata": {},
   "outputs": [],
   "source": [
    "#Scale all data sets using mean and standard deviation of features in training set\n",
    "scaler = preprocessing.StandardScaler().fit(X_train)\n",
    "X_train_n = scaler.transform(X_train) \n",
    "X_test_n = scaler.transform(X_test)\n",
    "X_val_n = scaler.transform(X_val)\n",
    "\n",
    "#Scale combined data for retraining\n",
    "scaler_new = preprocessing.StandardScaler().fit(X_comb)\n",
    "X_comb_n = scaler_new.transform(X_comb)"
   ]
  },
  {
   "cell_type": "markdown",
   "metadata": {},
   "source": [
    "### (5) Load and Train k-NN classifiers"
   ]
  },
  {
   "cell_type": "markdown",
   "metadata": {},
   "source": [
    "#### (a) Predict values using different classifiers and calculate various performance metrics for each classifier\n",
    "We decided on the performance measures of Accuracy, Precision, Recall and F1 score to select the best value of k.\n",
    "\n",
    "\n",
    "Precision is an important metric for the wine business as we do not want to misclassify bad wine as good wine, which could impact reputation of the business and service quality.\n",
    "Recall is also an important metric as a high rate of false negatives could mean that the wine business could be understating the quality of their wines and missing out on identifying good wines."
   ]
  },
  {
   "cell_type": "code",
   "execution_count": 24,
   "metadata": {},
   "outputs": [],
   "source": [
    "accuracy_scores = {}\n",
    "result_dic ={'k':[],'Accuracy':[], 'Precision':[], 'Recall':[],'F1':[]}\n",
    "\n",
    "distance_metric = 'euclidean'\n",
    "\n",
    "#Loop for values of k from 1 to 100 to generate different models and obtain performance metrics for each model\n",
    "for k in range(1,101):\n",
    "    clf = KNeighborsClassifier(n_neighbors = k, algorithm = 'auto', metric = distance_metric)\n",
    "    clf.fit(X_train_n, y_train)\n",
    "    y_pred = clf.predict(X_val_n)\n",
    "    \n",
    "    accuracy_scores[k] = metrics.accuracy_score(y_val, y_pred)\n",
    "    \n",
    "    result_dic['k'].append(k)\n",
    "    accuracy = metrics.accuracy_score(y_val, y_pred)\n",
    "    precision, recall, F1, support = score(y_val, y_pred, average='macro')\n",
    "    result_dic['Accuracy'].append(accuracy)\n",
    "    result_dic['Precision'].append(precision)\n",
    "    result_dic['Recall'].append(recall)\n",
    "    result_dic['F1'].append(F1)"
   ]
  },
  {
   "cell_type": "markdown",
   "metadata": {},
   "source": [
    "#### (b) Identify Top 5 'k's which gives highest accuracy, precision, recall and F1 score on validation data sets\n",
    "k = 15 ranks in 1st place for Accuracy, Precision and F1 and 2nd for Recall."
   ]
  },
  {
   "cell_type": "code",
   "execution_count": 25,
   "metadata": {},
   "outputs": [
    {
     "data": {
      "text/html": [
       "<style  type=\"text/css\" >\n",
       "</style><table id=\"T_37e6dbe4_61e6_11ea_95a0_a86daa1a76c8\" ><thead>    <tr>        <th class=\"col_heading level0 col0\" >k</th>        <th class=\"col_heading level0 col1\" >Accuracy</th>        <th class=\"col_heading level0 col2\" >Precision</th>        <th class=\"col_heading level0 col3\" >Recall</th>        <th class=\"col_heading level0 col4\" >F1</th>    </tr></thead><tbody>\n",
       "                <tr>\n",
       "                                <td id=\"T_37e6dbe4_61e6_11ea_95a0_a86daa1a76c8row0_col0\" class=\"data row0 col0\" >15</td>\n",
       "                        <td id=\"T_37e6dbe4_61e6_11ea_95a0_a86daa1a76c8row0_col1\" class=\"data row0 col1\" >0.89</td>\n",
       "                        <td id=\"T_37e6dbe4_61e6_11ea_95a0_a86daa1a76c8row0_col2\" class=\"data row0 col2\" >0.921329</td>\n",
       "                        <td id=\"T_37e6dbe4_61e6_11ea_95a0_a86daa1a76c8row0_col3\" class=\"data row0 col3\" >0.832261</td>\n",
       "                        <td id=\"T_37e6dbe4_61e6_11ea_95a0_a86daa1a76c8row0_col4\" class=\"data row0 col4\" >0.860477</td>\n",
       "            </tr>\n",
       "            <tr>\n",
       "                                <td id=\"T_37e6dbe4_61e6_11ea_95a0_a86daa1a76c8row1_col0\" class=\"data row1 col0\" >16</td>\n",
       "                        <td id=\"T_37e6dbe4_61e6_11ea_95a0_a86daa1a76c8row1_col1\" class=\"data row1 col1\" >0.88</td>\n",
       "                        <td id=\"T_37e6dbe4_61e6_11ea_95a0_a86daa1a76c8row1_col2\" class=\"data row1 col2\" >0.91531</td>\n",
       "                        <td id=\"T_37e6dbe4_61e6_11ea_95a0_a86daa1a76c8row1_col3\" class=\"data row1 col3\" >0.816636</td>\n",
       "                        <td id=\"T_37e6dbe4_61e6_11ea_95a0_a86daa1a76c8row1_col4\" class=\"data row1 col4\" >0.845976</td>\n",
       "            </tr>\n",
       "            <tr>\n",
       "                                <td id=\"T_37e6dbe4_61e6_11ea_95a0_a86daa1a76c8row2_col0\" class=\"data row2 col0\" >18</td>\n",
       "                        <td id=\"T_37e6dbe4_61e6_11ea_95a0_a86daa1a76c8row2_col1\" class=\"data row2 col1\" >0.88</td>\n",
       "                        <td id=\"T_37e6dbe4_61e6_11ea_95a0_a86daa1a76c8row2_col2\" class=\"data row2 col2\" >0.91531</td>\n",
       "                        <td id=\"T_37e6dbe4_61e6_11ea_95a0_a86daa1a76c8row2_col3\" class=\"data row2 col3\" >0.816636</td>\n",
       "                        <td id=\"T_37e6dbe4_61e6_11ea_95a0_a86daa1a76c8row2_col4\" class=\"data row2 col4\" >0.845976</td>\n",
       "            </tr>\n",
       "            <tr>\n",
       "                                <td id=\"T_37e6dbe4_61e6_11ea_95a0_a86daa1a76c8row3_col0\" class=\"data row3 col0\" >7</td>\n",
       "                        <td id=\"T_37e6dbe4_61e6_11ea_95a0_a86daa1a76c8row3_col1\" class=\"data row3 col1\" >0.875</td>\n",
       "                        <td id=\"T_37e6dbe4_61e6_11ea_95a0_a86daa1a76c8row3_col2\" class=\"data row3 col2\" >0.903496</td>\n",
       "                        <td id=\"T_37e6dbe4_61e6_11ea_95a0_a86daa1a76c8row3_col3\" class=\"data row3 col3\" >0.81296</td>\n",
       "                        <td id=\"T_37e6dbe4_61e6_11ea_95a0_a86daa1a76c8row3_col4\" class=\"data row3 col4\" >0.840515</td>\n",
       "            </tr>\n",
       "            <tr>\n",
       "                                <td id=\"T_37e6dbe4_61e6_11ea_95a0_a86daa1a76c8row4_col0\" class=\"data row4 col0\" >9</td>\n",
       "                        <td id=\"T_37e6dbe4_61e6_11ea_95a0_a86daa1a76c8row4_col1\" class=\"data row4 col1\" >0.875</td>\n",
       "                        <td id=\"T_37e6dbe4_61e6_11ea_95a0_a86daa1a76c8row4_col2\" class=\"data row4 col2\" >0.912333</td>\n",
       "                        <td id=\"T_37e6dbe4_61e6_11ea_95a0_a86daa1a76c8row4_col3\" class=\"data row4 col3\" >0.808824</td>\n",
       "                        <td id=\"T_37e6dbe4_61e6_11ea_95a0_a86daa1a76c8row4_col4\" class=\"data row4 col4\" >0.838579</td>\n",
       "            </tr>\n",
       "    </tbody></table>"
      ],
      "text/plain": [
       "<pandas.io.formats.style.Styler at 0x1407fe8ffd0>"
      ]
     },
     "execution_count": 25,
     "metadata": {},
     "output_type": "execute_result"
    }
   ],
   "source": [
    "optimal_k = pd.DataFrame (result_dic, columns=['k','Accuracy', 'Precision', 'Recall', 'F1'])\n",
    "\n",
    "#Top 5 in Accuracy Score\n",
    "top_accuracy = optimal_k.nlargest(5,'Accuracy')\n",
    "top_accuracy.style.hide_index()"
   ]
  },
  {
   "cell_type": "code",
   "execution_count": 26,
   "metadata": {},
   "outputs": [
    {
     "data": {
      "text/html": [
       "<style  type=\"text/css\" >\n",
       "</style><table id=\"T_381e9540_61e6_11ea_a980_a86daa1a76c8\" ><thead>    <tr>        <th class=\"col_heading level0 col0\" >k</th>        <th class=\"col_heading level0 col1\" >Accuracy</th>        <th class=\"col_heading level0 col2\" >Precision</th>        <th class=\"col_heading level0 col3\" >Recall</th>        <th class=\"col_heading level0 col4\" >F1</th>    </tr></thead><tbody>\n",
       "                <tr>\n",
       "                                <td id=\"T_381e9540_61e6_11ea_a980_a86daa1a76c8row0_col0\" class=\"data row0 col0\" >15</td>\n",
       "                        <td id=\"T_381e9540_61e6_11ea_a980_a86daa1a76c8row0_col1\" class=\"data row0 col1\" >0.89</td>\n",
       "                        <td id=\"T_381e9540_61e6_11ea_a980_a86daa1a76c8row0_col2\" class=\"data row0 col2\" >0.921329</td>\n",
       "                        <td id=\"T_381e9540_61e6_11ea_a980_a86daa1a76c8row0_col3\" class=\"data row0 col3\" >0.832261</td>\n",
       "                        <td id=\"T_381e9540_61e6_11ea_a980_a86daa1a76c8row0_col4\" class=\"data row0 col4\" >0.860477</td>\n",
       "            </tr>\n",
       "            <tr>\n",
       "                                <td id=\"T_381e9540_61e6_11ea_a980_a86daa1a76c8row1_col0\" class=\"data row1 col0\" >8</td>\n",
       "                        <td id=\"T_381e9540_61e6_11ea_a980_a86daa1a76c8row1_col1\" class=\"data row1 col1\" >0.87</td>\n",
       "                        <td id=\"T_381e9540_61e6_11ea_a980_a86daa1a76c8row1_col2\" class=\"data row1 col2\" >0.919753</td>\n",
       "                        <td id=\"T_381e9540_61e6_11ea_a980_a86daa1a76c8row1_col3\" class=\"data row1 col3\" >0.796875</td>\n",
       "                        <td id=\"T_381e9540_61e6_11ea_a980_a86daa1a76c8row1_col4\" class=\"data row1 col4\" >0.828925</td>\n",
       "            </tr>\n",
       "            <tr>\n",
       "                                <td id=\"T_381e9540_61e6_11ea_a980_a86daa1a76c8row2_col0\" class=\"data row2 col0\" >16</td>\n",
       "                        <td id=\"T_381e9540_61e6_11ea_a980_a86daa1a76c8row2_col1\" class=\"data row2 col1\" >0.88</td>\n",
       "                        <td id=\"T_381e9540_61e6_11ea_a980_a86daa1a76c8row2_col2\" class=\"data row2 col2\" >0.91531</td>\n",
       "                        <td id=\"T_381e9540_61e6_11ea_a980_a86daa1a76c8row2_col3\" class=\"data row2 col3\" >0.816636</td>\n",
       "                        <td id=\"T_381e9540_61e6_11ea_a980_a86daa1a76c8row2_col4\" class=\"data row2 col4\" >0.845976</td>\n",
       "            </tr>\n",
       "            <tr>\n",
       "                                <td id=\"T_381e9540_61e6_11ea_a980_a86daa1a76c8row3_col0\" class=\"data row3 col0\" >18</td>\n",
       "                        <td id=\"T_381e9540_61e6_11ea_a980_a86daa1a76c8row3_col1\" class=\"data row3 col1\" >0.88</td>\n",
       "                        <td id=\"T_381e9540_61e6_11ea_a980_a86daa1a76c8row3_col2\" class=\"data row3 col2\" >0.91531</td>\n",
       "                        <td id=\"T_381e9540_61e6_11ea_a980_a86daa1a76c8row3_col3\" class=\"data row3 col3\" >0.816636</td>\n",
       "                        <td id=\"T_381e9540_61e6_11ea_a980_a86daa1a76c8row3_col4\" class=\"data row3 col4\" >0.845976</td>\n",
       "            </tr>\n",
       "            <tr>\n",
       "                                <td id=\"T_381e9540_61e6_11ea_a980_a86daa1a76c8row4_col0\" class=\"data row4 col0\" >9</td>\n",
       "                        <td id=\"T_381e9540_61e6_11ea_a980_a86daa1a76c8row4_col1\" class=\"data row4 col1\" >0.875</td>\n",
       "                        <td id=\"T_381e9540_61e6_11ea_a980_a86daa1a76c8row4_col2\" class=\"data row4 col2\" >0.912333</td>\n",
       "                        <td id=\"T_381e9540_61e6_11ea_a980_a86daa1a76c8row4_col3\" class=\"data row4 col3\" >0.808824</td>\n",
       "                        <td id=\"T_381e9540_61e6_11ea_a980_a86daa1a76c8row4_col4\" class=\"data row4 col4\" >0.838579</td>\n",
       "            </tr>\n",
       "    </tbody></table>"
      ],
      "text/plain": [
       "<pandas.io.formats.style.Styler at 0x1407ff29b00>"
      ]
     },
     "execution_count": 26,
     "metadata": {},
     "output_type": "execute_result"
    }
   ],
   "source": [
    "#Top 5 in Precision Score\n",
    "top_precision = optimal_k.nlargest(5,'Precision')\n",
    "top_precision.style.hide_index()"
   ]
  },
  {
   "cell_type": "code",
   "execution_count": 27,
   "metadata": {},
   "outputs": [
    {
     "data": {
      "text/html": [
       "<style  type=\"text/css\" >\n",
       "</style><table id=\"T_38520e1e_61e6_11ea_a79f_a86daa1a76c8\" ><thead>    <tr>        <th class=\"col_heading level0 col0\" >k</th>        <th class=\"col_heading level0 col1\" >Accuracy</th>        <th class=\"col_heading level0 col2\" >Precision</th>        <th class=\"col_heading level0 col3\" >Recall</th>        <th class=\"col_heading level0 col4\" >F1</th>    </tr></thead><tbody>\n",
       "                <tr>\n",
       "                                <td id=\"T_38520e1e_61e6_11ea_a79f_a86daa1a76c8row0_col0\" class=\"data row0 col0\" >1</td>\n",
       "                        <td id=\"T_38520e1e_61e6_11ea_a79f_a86daa1a76c8row0_col1\" class=\"data row0 col1\" >0.86</td>\n",
       "                        <td id=\"T_38520e1e_61e6_11ea_a79f_a86daa1a76c8row0_col2\" class=\"data row0 col2\" >0.836264</td>\n",
       "                        <td id=\"T_38520e1e_61e6_11ea_a79f_a86daa1a76c8row0_col3\" class=\"data row0 col3\" >0.851562</td>\n",
       "                        <td id=\"T_38520e1e_61e6_11ea_a79f_a86daa1a76c8row0_col4\" class=\"data row0 col4\" >0.842891</td>\n",
       "            </tr>\n",
       "            <tr>\n",
       "                                <td id=\"T_38520e1e_61e6_11ea_a79f_a86daa1a76c8row1_col0\" class=\"data row1 col0\" >15</td>\n",
       "                        <td id=\"T_38520e1e_61e6_11ea_a79f_a86daa1a76c8row1_col1\" class=\"data row1 col1\" >0.89</td>\n",
       "                        <td id=\"T_38520e1e_61e6_11ea_a79f_a86daa1a76c8row1_col2\" class=\"data row1 col2\" >0.921329</td>\n",
       "                        <td id=\"T_38520e1e_61e6_11ea_a79f_a86daa1a76c8row1_col3\" class=\"data row1 col3\" >0.832261</td>\n",
       "                        <td id=\"T_38520e1e_61e6_11ea_a79f_a86daa1a76c8row1_col4\" class=\"data row1 col4\" >0.860477</td>\n",
       "            </tr>\n",
       "            <tr>\n",
       "                                <td id=\"T_38520e1e_61e6_11ea_a79f_a86daa1a76c8row2_col0\" class=\"data row2 col0\" >5</td>\n",
       "                        <td id=\"T_38520e1e_61e6_11ea_a79f_a86daa1a76c8row2_col1\" class=\"data row2 col1\" >0.865</td>\n",
       "                        <td id=\"T_38520e1e_61e6_11ea_a79f_a86daa1a76c8row2_col2\" class=\"data row2 col2\" >0.85284</td>\n",
       "                        <td id=\"T_38520e1e_61e6_11ea_a79f_a86daa1a76c8row2_col3\" class=\"data row2 col3\" >0.830423</td>\n",
       "                        <td id=\"T_38520e1e_61e6_11ea_a79f_a86daa1a76c8row2_col4\" class=\"data row2 col4\" >0.840043</td>\n",
       "            </tr>\n",
       "            <tr>\n",
       "                                <td id=\"T_38520e1e_61e6_11ea_a79f_a86daa1a76c8row3_col0\" class=\"data row3 col0\" >17</td>\n",
       "                        <td id=\"T_38520e1e_61e6_11ea_a79f_a86daa1a76c8row3_col1\" class=\"data row3 col1\" >0.875</td>\n",
       "                        <td id=\"T_38520e1e_61e6_11ea_a79f_a86daa1a76c8row3_col2\" class=\"data row3 col2\" >0.895699</td>\n",
       "                        <td id=\"T_38520e1e_61e6_11ea_a79f_a86daa1a76c8row3_col3\" class=\"data row3 col3\" >0.817096</td>\n",
       "                        <td id=\"T_38520e1e_61e6_11ea_a79f_a86daa1a76c8row3_col4\" class=\"data row3 col4\" >0.842366</td>\n",
       "            </tr>\n",
       "            <tr>\n",
       "                                <td id=\"T_38520e1e_61e6_11ea_a79f_a86daa1a76c8row4_col0\" class=\"data row4 col0\" >19</td>\n",
       "                        <td id=\"T_38520e1e_61e6_11ea_a79f_a86daa1a76c8row4_col1\" class=\"data row4 col1\" >0.875</td>\n",
       "                        <td id=\"T_38520e1e_61e6_11ea_a79f_a86daa1a76c8row4_col2\" class=\"data row4 col2\" >0.895699</td>\n",
       "                        <td id=\"T_38520e1e_61e6_11ea_a79f_a86daa1a76c8row4_col3\" class=\"data row4 col3\" >0.817096</td>\n",
       "                        <td id=\"T_38520e1e_61e6_11ea_a79f_a86daa1a76c8row4_col4\" class=\"data row4 col4\" >0.842366</td>\n",
       "            </tr>\n",
       "    </tbody></table>"
      ],
      "text/plain": [
       "<pandas.io.formats.style.Styler at 0x1407ff31470>"
      ]
     },
     "execution_count": 27,
     "metadata": {},
     "output_type": "execute_result"
    }
   ],
   "source": [
    "#Top 5 in Recall Score\n",
    "top_recall = optimal_k.nlargest(5,'Recall')\n",
    "top_recall.style.hide_index()"
   ]
  },
  {
   "cell_type": "code",
   "execution_count": 28,
   "metadata": {},
   "outputs": [
    {
     "data": {
      "text/html": [
       "<style  type=\"text/css\" >\n",
       "</style><table id=\"T_388a3e92_61e6_11ea_a585_a86daa1a76c8\" ><thead>    <tr>        <th class=\"col_heading level0 col0\" >k</th>        <th class=\"col_heading level0 col1\" >Accuracy</th>        <th class=\"col_heading level0 col2\" >Precision</th>        <th class=\"col_heading level0 col3\" >Recall</th>        <th class=\"col_heading level0 col4\" >F1</th>    </tr></thead><tbody>\n",
       "                <tr>\n",
       "                                <td id=\"T_388a3e92_61e6_11ea_a585_a86daa1a76c8row0_col0\" class=\"data row0 col0\" >15</td>\n",
       "                        <td id=\"T_388a3e92_61e6_11ea_a585_a86daa1a76c8row0_col1\" class=\"data row0 col1\" >0.89</td>\n",
       "                        <td id=\"T_388a3e92_61e6_11ea_a585_a86daa1a76c8row0_col2\" class=\"data row0 col2\" >0.921329</td>\n",
       "                        <td id=\"T_388a3e92_61e6_11ea_a585_a86daa1a76c8row0_col3\" class=\"data row0 col3\" >0.832261</td>\n",
       "                        <td id=\"T_388a3e92_61e6_11ea_a585_a86daa1a76c8row0_col4\" class=\"data row0 col4\" >0.860477</td>\n",
       "            </tr>\n",
       "            <tr>\n",
       "                                <td id=\"T_388a3e92_61e6_11ea_a585_a86daa1a76c8row1_col0\" class=\"data row1 col0\" >16</td>\n",
       "                        <td id=\"T_388a3e92_61e6_11ea_a585_a86daa1a76c8row1_col1\" class=\"data row1 col1\" >0.88</td>\n",
       "                        <td id=\"T_388a3e92_61e6_11ea_a585_a86daa1a76c8row1_col2\" class=\"data row1 col2\" >0.91531</td>\n",
       "                        <td id=\"T_388a3e92_61e6_11ea_a585_a86daa1a76c8row1_col3\" class=\"data row1 col3\" >0.816636</td>\n",
       "                        <td id=\"T_388a3e92_61e6_11ea_a585_a86daa1a76c8row1_col4\" class=\"data row1 col4\" >0.845976</td>\n",
       "            </tr>\n",
       "            <tr>\n",
       "                                <td id=\"T_388a3e92_61e6_11ea_a585_a86daa1a76c8row2_col0\" class=\"data row2 col0\" >18</td>\n",
       "                        <td id=\"T_388a3e92_61e6_11ea_a585_a86daa1a76c8row2_col1\" class=\"data row2 col1\" >0.88</td>\n",
       "                        <td id=\"T_388a3e92_61e6_11ea_a585_a86daa1a76c8row2_col2\" class=\"data row2 col2\" >0.91531</td>\n",
       "                        <td id=\"T_388a3e92_61e6_11ea_a585_a86daa1a76c8row2_col3\" class=\"data row2 col3\" >0.816636</td>\n",
       "                        <td id=\"T_388a3e92_61e6_11ea_a585_a86daa1a76c8row2_col4\" class=\"data row2 col4\" >0.845976</td>\n",
       "            </tr>\n",
       "            <tr>\n",
       "                                <td id=\"T_388a3e92_61e6_11ea_a585_a86daa1a76c8row3_col0\" class=\"data row3 col0\" >1</td>\n",
       "                        <td id=\"T_388a3e92_61e6_11ea_a585_a86daa1a76c8row3_col1\" class=\"data row3 col1\" >0.86</td>\n",
       "                        <td id=\"T_388a3e92_61e6_11ea_a585_a86daa1a76c8row3_col2\" class=\"data row3 col2\" >0.836264</td>\n",
       "                        <td id=\"T_388a3e92_61e6_11ea_a585_a86daa1a76c8row3_col3\" class=\"data row3 col3\" >0.851562</td>\n",
       "                        <td id=\"T_388a3e92_61e6_11ea_a585_a86daa1a76c8row3_col4\" class=\"data row3 col4\" >0.842891</td>\n",
       "            </tr>\n",
       "            <tr>\n",
       "                                <td id=\"T_388a3e92_61e6_11ea_a585_a86daa1a76c8row4_col0\" class=\"data row4 col0\" >17</td>\n",
       "                        <td id=\"T_388a3e92_61e6_11ea_a585_a86daa1a76c8row4_col1\" class=\"data row4 col1\" >0.875</td>\n",
       "                        <td id=\"T_388a3e92_61e6_11ea_a585_a86daa1a76c8row4_col2\" class=\"data row4 col2\" >0.895699</td>\n",
       "                        <td id=\"T_388a3e92_61e6_11ea_a585_a86daa1a76c8row4_col3\" class=\"data row4 col3\" >0.817096</td>\n",
       "                        <td id=\"T_388a3e92_61e6_11ea_a585_a86daa1a76c8row4_col4\" class=\"data row4 col4\" >0.842366</td>\n",
       "            </tr>\n",
       "    </tbody></table>"
      ],
      "text/plain": [
       "<pandas.io.formats.style.Styler at 0x1407ff7b470>"
      ]
     },
     "execution_count": 28,
     "metadata": {},
     "output_type": "execute_result"
    }
   ],
   "source": [
    "#Top 5 in F1 Score\n",
    "top_f1 = optimal_k.nlargest(5,'F1')\n",
    "top_f1.style.hide_index()"
   ]
  },
  {
   "cell_type": "markdown",
   "metadata": {},
   "source": [
    "#### (c) Plot validation data set accuracy against value of k\n",
    "k = 15 gives the highest accuracy of 0.89 on the validation set."
   ]
  },
  {
   "cell_type": "code",
   "execution_count": 29,
   "metadata": {
    "scrolled": true
   },
   "outputs": [
    {
     "data": {
      "image/png": "[encoded data removed]",
      "text/plain": [
       "<Figure size 432x288 with 1 Axes>"
      ]
     },
     "metadata": {
      "needs_background": "light"
     },
     "output_type": "display_data"
    }
   ],
   "source": [
    "x_acc = list(accuracy_scores.keys())\n",
    "y_acc = list(accuracy_scores.values())\n",
    "\n",
    "plt.plot(x_acc,y_acc)\n",
    "plt.xlabel('Value of K for KNN')\n",
    "plt.ylabel('Validation Set Accuracy')\n",
    "plt.show()"
   ]
  },
  {
   "cell_type": "markdown",
   "metadata": {},
   "source": [
    "### (7) Predict generalisation error using test data set"
   ]
  },
  {
   "cell_type": "markdown",
   "metadata": {},
   "source": [
    "#### (a) Use combined data set (training + validation sets) to retrain model"
   ]
  },
  {
   "cell_type": "code",
   "execution_count": 30,
   "metadata": {},
   "outputs": [],
   "source": [
    "#Retrain model on combined data set using k = 15\n",
    "clf_new = KNeighborsClassifier(n_neighbors = 15, algorithm = 'auto', metric = distance_metric)\n",
    "clf_new.fit(X_comb_n, y_comb)\n",
    "y_pred_comb = clf_new.predict(X_test_n)"
   ]
  },
  {
   "cell_type": "markdown",
   "metadata": {},
   "source": [
    "#### (b) Compute Generalisation error and Accuracy score of test set using retrained model"
   ]
  },
  {
   "cell_type": "code",
   "execution_count": 31,
   "metadata": {},
   "outputs": [
    {
     "name": "stdout",
     "output_type": "stream",
     "text": [
      "Generalisation error: 0.025\n",
      "Accuracy score: 0.975\n"
     ]
    }
   ],
   "source": [
    "model_error = np.mean(y_pred_comb != y_test)\n",
    "print(\"Generalisation error: \" + str(model_error))\n",
    "model_accuracy_score = metrics.accuracy_score(y_test, y_pred_comb)\n",
    "print(\"Accuracy score: \" + str(model_accuracy_score))"
   ]
  },
  {
   "cell_type": "markdown",
   "metadata": {},
   "source": [
    "### How to judge whether classifier is well-suited for data set?"
   ]
  },
  {
   "cell_type": "markdown",
   "metadata": {},
   "source": [
    "The accuracy score of using the retrained model on the test data set is 97.5% which is high. We also used cross-validation, below, to judge if classifier is well-suited for the data set. From the accuracy of 0.88 obtained, we believe the classifier is well-suited."
   ]
  },
  {
   "cell_type": "code",
   "execution_count": 32,
   "metadata": {},
   "outputs": [
    {
     "name": "stdout",
     "output_type": "stream",
     "text": [
      "Accuracy: 0.88 (+/- 0.02)\n"
     ]
    }
   ],
   "source": [
    "scores = cross_val_score(clf_new, X, y, cv = 3)\n",
    "print(\"Accuracy: %0.2f (+/- %0.2f)\" % (scores.mean(), scores.std() * 2))"
   ]
  }
 ],
 "metadata": {
  "kernelspec": {
   "display_name": "Python 3",
   "language": "python",
   "name": "python3"
  },
  "language_info": {
   "codemirror_mode": {
    "name": "ipython",
    "version": 3
   },
   "file_extension": ".py",
   "mimetype": "text/x-python",
   "name": "python",
   "nbconvert_exporter": "python",
   "pygments_lexer": "ipython3",
   "version": "3.7.3"
  }
 },
 "nbformat": 4,
 "nbformat_minor": 2
}
